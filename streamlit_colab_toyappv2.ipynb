{
 "cells": [
  {
   "cell_type": "markdown",
   "metadata": {
    "colab_type": "text",
    "id": "view-in-github"
   },
   "source": [
    "<a href=\"https://colab.research.google.com/github/prakashsukhwal/toyapp1/blob/main/streamlit_colab_toyappv2.ipynb\" target=\"_parent\"><img src=\"https://colab.research.google.com/assets/colab-badge.svg\" alt=\"Open In Colab\"/></a>"
   ]
  },
  {
   "cell_type": "code",
   "execution_count": 24,
   "metadata": {
    "id": "xSrMTtRUNvGu"
   },
   "outputs": [],
   "source": [
    "# !pip install streamlit"
   ]
  },
  {
   "cell_type": "code",
   "execution_count": 25,
   "metadata": {
    "id": "ezJDaq8rTGmN"
   },
   "outputs": [],
   "source": [
    "# !pip install pyngrok"
   ]
  },
  {
   "cell_type": "code",
   "execution_count": 26,
   "metadata": {
    "id": "UEH8T1ZP3pjU"
   },
   "outputs": [],
   "source": [
    "from pyngrok import ngrok"
   ]
  },
  {
   "cell_type": "code",
   "execution_count": 1,
   "metadata": {
    "id": "tk60Kn1ON4FF"
   },
   "outputs": [
    {
     "name": "stdout",
     "output_type": "stream",
     "text": [
      "Overwriting toy-app1_v2.0.py\n"
     ]
    }
   ],
   "source": [
    "%%writefile toy-app1_v2.0.py\n",
    "import streamlit as st\n",
    "# other libs\n",
    "import numpy as np\n",
    "import pandas as pd\n",
    "from sklearn import datasets\n",
    "import matplotlib.pyplot as plt\n",
    "import seaborn as sns\n",
    "# -- Set page config\n",
    "apptitle = 'Solution Implementation'\n",
    "\n",
    "st.set_page_config(page_title=apptitle, page_icon='random', layout= 'wide', initial_sidebar_state=\"expanded\")\n",
    "# random icons in the browser tab\n",
    "\n",
    "def main():\n",
    "  \n",
    "  st.title('Toy App-1 on the go..')\n",
    "  st.balloons() \n",
    "\n",
    "  # Let's add a sub-title\n",
    "  st.write(\"A **_cool_** toy application\")\n",
    "\n",
    "\n",
    "  # Let's load and display a data set\n",
    "  st.subheader('**1. A random dataset**')\n",
    "\n",
    "  df1 = pd.DataFrame(np.random.randn(10, 20),\n",
    "  columns=('col %d' % i for i in range(20)))\n",
    "\n",
    "  st.dataframe(df1.style.highlight_max(axis=0))\n",
    "  st.write('source: https://docs.streamlit.io/en/stable/api.html#display-data')\n",
    "\n",
    "  st.subheader('**2. Boston Housing Data**')\n",
    "  boston = datasets.load_boston()\n",
    "  df2 = pd.DataFrame(boston.data, columns=boston.feature_names)\n",
    "  # st.dataframe(df2)\n",
    "  \n",
    "    \n",
    " \n",
    "  # let us try some plotting\n",
    "  fig, ax = plt.subplots(figsize=(6, 3))\n",
    "  # sns.boxplot(data=df2)\n",
    "  # st.pyplot(fig)\n",
    "\n",
    "  col1, col2 = st.columns((1,1))\n",
    "  with col2:\n",
    "    st.dataframe(df2)\n",
    "  with col1:\n",
    "    sns.boxplot(data=df2)\n",
    "    st.pyplot(fig)\n",
    "    \n",
    "    \n",
    "\n",
    "  st.subheader('**3. Diabetes Data**')\n",
    "  diabetes = datasets.load_diabetes()\n",
    "  df3 = pd.DataFrame(diabetes.data, columns=diabetes.feature_names)\n",
    "\n",
    "  st.dataframe(df3.style.highlight_max(axis=0))\n",
    "  st.write('source: https://docs.streamlit.io/en/stable/api.html#display-data')\n",
    "\n",
    "if __name__ == '__main__':\n",
    "  main()"
   ]
  },
  {
   "cell_type": "code",
   "execution_count": 2,
   "metadata": {
    "id": "LEkL4tECPtf_"
   },
   "outputs": [
    {
     "name": "stdout",
     "output_type": "stream",
     "text": [
      " Volume in drive C has no label.\n",
      " Volume Serial Number is 147B-9781\n",
      "\n",
      " Directory of C:\\Users\\cchua\\Documents\\Data Science\\toyapp1 - Chris\n",
      "\n",
      "28/05/2022  02:05 pm    <DIR>          .\n",
      "28/05/2022  02:05 pm    <DIR>          ..\n",
      "26/05/2022  09:59 pm                68 .gitattributes\n",
      "28/05/2022  01:49 pm    <DIR>          .ipynb_checkpoints\n",
      "26/05/2022  09:59 pm                32 README.md\n",
      "26/05/2022  09:59 pm               246 requirements.txt\n",
      "28/05/2022  02:05 pm            11,158 streamlit_colab_toyappv2.ipynb\n",
      "28/05/2022  12:11 pm            78,524 Test_plumberAPI_Python_v2.ipynb\n",
      "26/05/2022  09:59 pm               156 toy-app1.py\n",
      "26/05/2022  09:59 pm               187 toy-app1_v1.0.py\n",
      "28/05/2022  02:05 pm             1,604 toy-app1_v2.0.py\n",
      "               8 File(s)         91,975 bytes\n",
      "               3 Dir(s)  300,636,778,496 bytes free\n"
     ]
    }
   ],
   "source": [
    "#Windows use dir instead of ls\n",
    "\n",
    "!dir"
   ]
  },
  {
   "cell_type": "code",
   "execution_count": 29,
   "metadata": {
    "id": "aaPZ7hARVefl"
   },
   "outputs": [
    {
     "name": "stderr",
     "output_type": "stream",
     "text": [
      "'wget' is not recognized as an internal or external command,\n",
      "operable program or batch file.\n"
     ]
    }
   ],
   "source": [
    "!wget https://bin.equinox.io/c/4VmDzA7iaHb/ngrok-stable-linux-amd64.zip"
   ]
  },
  {
   "cell_type": "code",
   "execution_count": 30,
   "metadata": {
    "id": "sla3v3o1VeVd"
   },
   "outputs": [
    {
     "name": "stderr",
     "output_type": "stream",
     "text": [
      "'unzip' is not recognized as an internal or external command,\n",
      "operable program or batch file.\n"
     ]
    }
   ],
   "source": [
    "!unzip ngrok-stable-linux-amd64.zip"
   ]
  },
  {
   "cell_type": "code",
   "execution_count": 31,
   "metadata": {
    "id": "KBV-UJfeVvQl"
   },
   "outputs": [],
   "source": [
    "get_ipython().system_raw('./ngrok http 8501 &')"
   ]
  },
  {
   "cell_type": "code",
   "execution_count": 32,
   "metadata": {
    "id": "4_-rJtpcPtcS"
   },
   "outputs": [
    {
     "ename": "OSError",
     "evalue": "Background processes not supported.",
     "output_type": "error",
     "traceback": [
      "\u001b[1;31m---------------------------------------------------------------------------\u001b[0m",
      "\u001b[1;31mOSError\u001b[0m                                   Traceback (most recent call last)",
      "Input \u001b[1;32mIn [32]\u001b[0m, in \u001b[0;36m<module>\u001b[1;34m\u001b[0m\n\u001b[0;32m      1\u001b[0m \u001b[38;5;66;03m# run the app\u001b[39;00m\n\u001b[1;32m----> 2\u001b[0m \u001b[43mget_ipython\u001b[49m\u001b[43m(\u001b[49m\u001b[43m)\u001b[49m\u001b[38;5;241;43m.\u001b[39;49m\u001b[43msystem\u001b[49m\u001b[43m(\u001b[49m\u001b[38;5;124;43m'\u001b[39;49m\u001b[38;5;124;43mstreamlit run toy-app1_v2.0.py &>/dev/null&\u001b[39;49m\u001b[38;5;124;43m'\u001b[39;49m\u001b[43m)\u001b[49m\n",
      "File \u001b[1;32mc:\\users\\cchua\\appdata\\local\\programs\\python\\python38\\lib\\site-packages\\ipykernel\\zmqshell.py:621\u001b[0m, in \u001b[0;36mZMQInteractiveShell.system_piped\u001b[1;34m(self, cmd)\u001b[0m\n\u001b[0;32m    606\u001b[0m \u001b[38;5;124;03m\"\"\"Call the given cmd in a subprocess, piping stdout/err\u001b[39;00m\n\u001b[0;32m    607\u001b[0m \n\u001b[0;32m    608\u001b[0m \u001b[38;5;124;03mParameters\u001b[39;00m\n\u001b[1;32m   (...)\u001b[0m\n\u001b[0;32m    613\u001b[0m \u001b[38;5;124;03m    other than simple text.\u001b[39;00m\n\u001b[0;32m    614\u001b[0m \u001b[38;5;124;03m\"\"\"\u001b[39;00m\n\u001b[0;32m    615\u001b[0m \u001b[38;5;28;01mif\u001b[39;00m cmd\u001b[38;5;241m.\u001b[39mrstrip()\u001b[38;5;241m.\u001b[39mendswith(\u001b[38;5;124m'\u001b[39m\u001b[38;5;124m&\u001b[39m\u001b[38;5;124m'\u001b[39m):\n\u001b[0;32m    616\u001b[0m     \u001b[38;5;66;03m# this is *far* from a rigorous test\u001b[39;00m\n\u001b[0;32m    617\u001b[0m     \u001b[38;5;66;03m# We do not support backgrounding processes because we either use\u001b[39;00m\n\u001b[0;32m    618\u001b[0m     \u001b[38;5;66;03m# pexpect or pipes to read from.  Users can always just call\u001b[39;00m\n\u001b[0;32m    619\u001b[0m     \u001b[38;5;66;03m# os.system() or use ip.system=ip.system_raw\u001b[39;00m\n\u001b[0;32m    620\u001b[0m     \u001b[38;5;66;03m# if they really want a background process.\u001b[39;00m\n\u001b[1;32m--> 621\u001b[0m     \u001b[38;5;28;01mraise\u001b[39;00m \u001b[38;5;167;01mOSError\u001b[39;00m(\u001b[38;5;124m\"\u001b[39m\u001b[38;5;124mBackground processes not supported.\u001b[39m\u001b[38;5;124m\"\u001b[39m)\n\u001b[0;32m    623\u001b[0m \u001b[38;5;66;03m# we explicitly do NOT return the subprocess status code, because\u001b[39;00m\n\u001b[0;32m    624\u001b[0m \u001b[38;5;66;03m# a non-None value would trigger :func:`sys.displayhook` calls.\u001b[39;00m\n\u001b[0;32m    625\u001b[0m \u001b[38;5;66;03m# Instead, we store the exit_code in user_ns.\u001b[39;00m\n\u001b[0;32m    626\u001b[0m \u001b[38;5;66;03m# Also, protect system call from UNC paths on Windows here too\u001b[39;00m\n\u001b[0;32m    627\u001b[0m \u001b[38;5;66;03m# as is done in InteractiveShell.system_raw\u001b[39;00m\n\u001b[0;32m    628\u001b[0m \u001b[38;5;28;01mif\u001b[39;00m sys\u001b[38;5;241m.\u001b[39mplatform \u001b[38;5;241m==\u001b[39m \u001b[38;5;124m'\u001b[39m\u001b[38;5;124mwin32\u001b[39m\u001b[38;5;124m'\u001b[39m:\n",
      "\u001b[1;31mOSError\u001b[0m: Background processes not supported."
     ]
    }
   ],
   "source": [
    "# run the app\n",
    "!streamlit run toy-app1_v2.0.py &>/dev/null&"
   ]
  },
  {
   "cell_type": "code",
   "execution_count": null,
   "metadata": {
    "id": "1audXTOWVvEq"
   },
   "outputs": [],
   "source": [
    "!curl -s http://localhost:4040/api/tunnels | python3 -c \\\n",
    "    'import sys, json; print(\" Access the app at URL: \" +json.load(sys.stdin)[\"tunnels\"][0][\"public_url\"])'"
   ]
  },
  {
   "cell_type": "code",
   "execution_count": null,
   "metadata": {
    "id": "fhyZRx9Qvb3q"
   },
   "outputs": [],
   "source": [
    "# what is the process id\n",
    "!pgrep streamlit"
   ]
  },
  {
   "cell_type": "code",
   "execution_count": null,
   "metadata": {
    "id": "Tsv-e5h-XOQl"
   },
   "outputs": [],
   "source": [
    "!kill 385 # change with current process id"
   ]
  },
  {
   "cell_type": "code",
   "execution_count": null,
   "metadata": {
    "id": "Cmxyfvfe2GMa"
   },
   "outputs": [],
   "source": [
    "# ngrok.kill()"
   ]
  },
  {
   "cell_type": "code",
   "execution_count": 41,
   "metadata": {},
   "outputs": [
    {
     "data": {
      "text/plain": [
       "DeltaGenerator(_root_container=0, _provided_cursor=None, _parent=None, _block_type=None, _form_data=None)"
      ]
     },
     "execution_count": 41,
     "metadata": {},
     "output_type": "execute_result"
    }
   ],
   "source": []
  }
 ],
 "metadata": {
  "colab": {
   "authorship_tag": "ABX9TyMhM5umhOYPPHZGPi4JPf2G",
   "collapsed_sections": [],
   "include_colab_link": true,
   "name": "streamlit-colab_toyappv2.ipynb",
   "provenance": []
  },
  "kernelspec": {
   "display_name": "Python 3 (ipykernel)",
   "language": "python",
   "name": "python3"
  },
  "language_info": {
   "codemirror_mode": {
    "name": "ipython",
    "version": 3
   },
   "file_extension": ".py",
   "mimetype": "text/x-python",
   "name": "python",
   "nbconvert_exporter": "python",
   "pygments_lexer": "ipython3",
   "version": "3.8.10"
  }
 },
 "nbformat": 4,
 "nbformat_minor": 4
}
